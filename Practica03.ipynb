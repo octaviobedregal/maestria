{
  "nbformat": 4,
  "nbformat_minor": 0,
  "metadata": {
    "colab": {
      "name": "Practica03.ipynb",
      "provenance": [],
      "collapsed_sections": [],
      "authorship_tag": "ABX9TyOrxD+LzPu57zYEXoS3HGiB",
      "include_colab_link": true
    },
    "kernelspec": {
      "name": "python3",
      "display_name": "Python 3"
    },
    "language_info": {
      "name": "python"
    }
  },
  "cells": [
    {
      "cell_type": "markdown",
      "metadata": {
        "id": "view-in-github",
        "colab_type": "text"
      },
      "source": [
        "<a href=\"https://colab.research.google.com/github/octaviobedregal/maestria/blob/master/Practica03.ipynb\" target=\"_parent\"><img src=\"https://colab.research.google.com/assets/colab-badge.svg\" alt=\"Open In Colab\"/></a>"
      ]
    },
    {
      "cell_type": "markdown",
      "metadata": {
        "id": "ACmkBnueQ4SX"
      },
      "source": [
        "**1. INGRESAMOS PUNTOS (ENTRENAMIENTO Y PRUEBAS)**"
      ]
    },
    {
      "cell_type": "code",
      "metadata": {
        "colab": {
          "base_uri": "https://localhost:8080/",
          "height": 265
        },
        "id": "h1KPEfxodzEv",
        "outputId": "f9988555-2bb0-4c51-ddc5-490031374a52"
      },
      "source": [
        "import pylab as pl\n",
        "import numpy as np\n",
        "import math as math\n",
        "\n",
        "#Puntos de entenammiento\n",
        "X1 = [5, 7, 2, 13, 4, 15, 9, 4, 6, 1, 3, 10, 4, 10, 8, 20, 18, 15, 20, 12, 6, 12]\n",
        "Y1 = [0, 0, 0, 1, 0, 1, 1, 0, 0, 0, 0, 1, 0, 1, 0, 1, 0, 1, 1, 1, 0, 1]\n",
        "#Puntos para pruebas\n",
        "X2 = [13, 14, 10, 6, 21, 25]\n",
        "Y2 = [1, 1, 1, 0, 1, 1]\n",
        "\n",
        "pl.scatter(X1,Y1)\n",
        "pl.scatter(X2,Y2)\n",
        "pl.show()"
      ],
      "execution_count": 43,
      "outputs": [
        {
          "output_type": "display_data",
          "data": {
            "image/png": "[encoded data removed]",
            "text/plain": [
              "<Figure size 432x288 with 1 Axes>"
            ]
          },
          "metadata": {
            "needs_background": "light"
          }
        }
      ]
    },
    {
      "cell_type": "markdown",
      "metadata": {
        "id": "bVxGiWcLRaY6"
      },
      "source": [
        "**2. GENERAMOS REGRESIÓN LOGISTICA**\n"
      ]
    },
    {
      "cell_type": "code",
      "metadata": {
        "colab": {
          "base_uri": "https://localhost:8080/",
          "height": 304
        },
        "id": "8dZPY9zmgW2L",
        "outputId": "88896f68-fb6d-420c-d564-47b6919ab2d1"
      },
      "source": [
        "f = open ('GradienteDescendiente.txt','w')\n",
        "f.write('ALUMNO: Octavio Bedregal Flores\\n')\n",
        "f.write('\\nPARAMETROS INICIALES:\\n')\n",
        "\n",
        "n = len(X1);\n",
        "m = 1\n",
        "b = 0\n",
        "rate = 0.001\n",
        "umbral = 0.5\n",
        "iteraciones = 100000\n",
        "\n",
        "f.write('PENDIENTE ANTERIOR: '+str(m)+'\\n')\n",
        "f.write('INTERCEPTO ANTERIOR: '+str(b)+'\\n')\n",
        "f.write('TASA DE APRENDIZAJE: '+str(rate)+'\\n')\n",
        "f.write('CANTIDAD DE ITERACIONES: '+str(iteraciones)+'\\n')\n",
        "f.write('UMBRAL: '+str(umbral)+'\\n')\n",
        "f.write('DATOS DE ENTRENAMIENO:\\n')\n",
        "f.write('X '+str(X1)+'\\nY '+str(Y1))\n",
        "f.write('\\nDATOS DE TEST:\\n')\n",
        "f.write('X '+str(X2)+'\\nY '+str(Y2)+'\\n')\n",
        "\n",
        "for i in range(1, (iteraciones+1)):\n",
        "  f.write('\\nITERACIÓN '+str(i)+':\\n')\n",
        "  f.write('PENDIENTE ANTERIOR: '+str(m)+'\\n')\n",
        "  f.write('INTERCEPTO ANTERIOR: '+str(b)+'\\n')\n",
        "  sumM = 0;\n",
        "  sumB = 0;\n",
        "  sumE = 0;\n",
        "  for i2 in range(n):\n",
        "    x = X1[i2];\n",
        "    y = Y1[i2];\n",
        "    z = (m*x+b);\n",
        "    y2 = 1/(1 + np.e**(-z));\n",
        "    sumE += -(y*np.log(y2)+(1-y)*np.log(1-y2));\n",
        "    sumM += (y2-y)*x;\n",
        "    sumB += y2-y;\n",
        "  f.write('ERROR: '+str(sumE)+'\\n')\n",
        "  f.write('TASA DE APRENDIZAJE: '+str(rate)+'\\n')\n",
        "  f.write('DERIVADA PENDIENTE: '+str(sumM)+'\\n')\n",
        "  f.write('DERIVADA INTERCEPTO: '+str(sumB)+'\\n')\n",
        "  m = m - (rate*sumM);\n",
        "  b = b - (rate*sumB);\n",
        "  f.write('PENDIENTE NUEVA: '+str(m)+'\\n')\n",
        "  f.write('INTERCEPTO NUEVO: '+str(b)+'\\n')\n",
        "\n",
        "f.write('\\nTEST:')\n",
        "n = len(X2) \n",
        "pA = 0;\n",
        "for i in range(n):\n",
        "    x = X2[i];\n",
        "    y = Y2[i];\n",
        "    z = (m*x+b);\n",
        "    y2 = 1;\n",
        "    if((1/(1 + np.e**(-z)))< umbral):\n",
        "      y2 = 0;\n",
        "    f.write('\\nDATO '+str(i+1)+': '+str(x)+', ')\n",
        "    f.write('ESTIMADO: '+str(y2)+', ')\n",
        "    f.write('REAL: '+str(y)+', ')\n",
        "    if(y == y2):\n",
        "      pA +=1;\n",
        "      f.write('CORRECTO')\n",
        "    else:\n",
        "      f.write('INCORRECTO')\n",
        "f.write('\\nPORCENTAJE DE ACIERTO: '+str((n/pA)*100)+'%')\n",
        "f.close() \n",
        "\n",
        "xL=np.arange(1, 25, 0.5)\n",
        "yL=1/(1+np.e**-(m*xL+b))\n",
        "\n",
        "pl.title(\"REGRESIÓN LOGÍSTICA\")\n",
        "pl.xlabel(\"x\", fontsize=20)\n",
        "pl.ylabel(\"y\", rotation=0, fontsize=20)\n",
        "pl.plot(xL,yL, label = \"Iteración \"+str(iteraciones))\n",
        "pl.scatter(X1,Y1, label = \"Entrenamiento\")\n",
        "pl.scatter(X2,Y2, label = \"Pruebas\")\n",
        "pl.plot([0,25], [0.5, 0.5], label = \"Umbral\")\n",
        "pl.legend()\n",
        "\n",
        "pl.show()"
      ],
      "execution_count": 49,
      "outputs": [
        {
          "output_type": "display_data",
          "data": {
            "image/png": "[encoded data removed]",
            "text/plain": [
              "<Figure size 432x288 with 1 Axes>"
            ]
          },
          "metadata": {
            "needs_background": "light"
          }
        }
      ]
    }
  ]
}