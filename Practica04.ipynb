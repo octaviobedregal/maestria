{
  "nbformat": 4,
  "nbformat_minor": 0,
  "metadata": {
    "colab": {
      "name": "Practica04.ipynb",
      "provenance": [],
      "collapsed_sections": [],
      "authorship_tag": "ABX9TyPARJshmDuoDrZdvsyGT+Lt",
      "include_colab_link": true
    },
    "kernelspec": {
      "name": "python3",
      "display_name": "Python 3"
    },
    "language_info": {
      "name": "python"
    }
  },
  "cells": [
    {
      "cell_type": "markdown",
      "metadata": {
        "id": "view-in-github",
        "colab_type": "text"
      },
      "source": [
        "<a href=\"https://colab.research.google.com/github/octaviobedregal/maestria/blob/master/Practica04.ipynb\" target=\"_parent\"><img src=\"https://colab.research.google.com/assets/colab-badge.svg\" alt=\"Open In Colab\"/></a>"
      ]
    },
    {
      "cell_type": "markdown",
      "metadata": {
        "id": "8CnF6WeDqpmL"
      },
      "source": [
        "**1. IMPORTAMOS LIBRERIAS**"
      ]
    },
    {
      "cell_type": "code",
      "metadata": {
        "id": "27WwlG35lW1O"
      },
      "source": [
        "import numpy as np\n",
        "import pandas as pd\n",
        "import matplotlib.pyplot as plt\n",
        "from sklearn.neural_network import MLPClassifier\n",
        "from sklearn.metrics import accuracy_score\n",
        "import requests, zipfile, io\n",
        "import csv\n",
        "import math"
      ],
      "execution_count": 146,
      "outputs": []
    },
    {
      "cell_type": "markdown",
      "metadata": {
        "id": "uK42QB1Nqw2d"
      },
      "source": [
        "**2. DESCARGAMOS LA BASE DE DATOS DE BANANAS Y TRANSFORMAMOS LA DATA A CSV**"
      ]
    },
    {
      "cell_type": "code",
      "metadata": {
        "id": "NdqmV7s0wa4F"
      },
      "source": [
        "nameDB = 'banana'\n",
        "\n",
        "f = open (\"BaseDatos-\"+nameDB+'-Resumen.txt','w')\n",
        "f.write('BASE DE DATOS: '+nameDB+'\\n')\n",
        "f.write('RESUMEN:\\n')\n",
        "f.write('Es un conjunto de datos artificiales donde las instancias pertenecen a varios grupos con forma de banana.\\n')\n",
        "f.write('Hay dos caracteristicas X1 y X2, y la etiqueta de clase Y (-1 y 1) que representa una de las dos formas de plátano en el conjunto de datos.\\n')\n",
        "\n",
        "n = 10\n",
        "zipFileUrl = 'https://sci2s.ugr.es/keel/dataset/data/classification/'+nameDB+'-'+str(n)+'-fold.zip'\n",
        "fileTraining = 'data/'+nameDB+'-'+str(n)+'-fold/'+nameDB+'-'+str(n)+'-tra.csv'\n",
        "\n",
        "r = requests.get(zipFileUrl)\n",
        "z = zipfile.ZipFile(io.BytesIO(r.content))\n",
        "z.extractall('data/'+nameDB+'-'+str(n)+'-fold')\n",
        "\n",
        "nTraining = 0\n",
        "nTest = 0\n",
        "\n",
        "f.write('CONJUNTO DE DATOS - ENTRENAMIENTO:\\n')\n",
        "with open(fileTraining, \"w\") as outfile:\n",
        "  csv_writer = csv.writer(outfile)\n",
        "  f.write(str(['X1', 'X2', 'Y'])+'\\n')\n",
        "  csv_writer.writerow(['X1', 'X2', 'Y'])\n",
        "  for i in range(1,(n+1)):\n",
        "    fileOpen = 'data/'+nameDB+'-'+str(n)+'-fold/'+nameDB+'-'+str(n)+'-'+str(i)+'tra.dat'\n",
        "    with open(fileOpen) as infile:\n",
        "      lines = infile.read().splitlines()[11:]\n",
        "      for line in lines:\n",
        "        nTraining +=1;\n",
        "        f.write(str(line.split(\",\"))+'\\n')\n",
        "        csv_writer.writerow(line.split(\",\"))\n",
        "\n",
        "f.write('CONJUNTO DE DATOS - PRUEBAS:\\n')\n",
        "f.write(str(['X1', 'X2', 'Y'])+'\\n')\n",
        "for i in range(1,(n+1)):\n",
        "  fileOpen = 'data/'+nameDB+'-'+str(n)+'-fold/'+nameDB+'-'+str(n)+'-'+str(i)+'tst.dat'\n",
        "  fileTest = 'data/'+nameDB+'-'+str(n)+'-fold/'+nameDB+'-'+str(n)+'-'+str(i)+'tst.csv'\n",
        "  with open(fileOpen) as infile, open(fileTest, \"w\") as outfile:\n",
        "    lines = infile.read().splitlines()[11:]\n",
        "    csv_writer = csv.writer(outfile)\n",
        "    csv_writer.writerow(['X1', 'X2', 'Y'])\n",
        "    for line in lines:\n",
        "      nTest +=1\n",
        "      f.write(str(line.split(\",\"))+'\\n')\n",
        "      csv_writer.writerow(line.split(\",\"))\n",
        "  \n",
        "f.close() "
      ],
      "execution_count": 147,
      "outputs": []
    },
    {
      "cell_type": "markdown",
      "metadata": {
        "id": "wNlVXOGOrDCP"
      },
      "source": [
        "**3. GENERAMOS EL MODELO**"
      ]
    },
    {
      "cell_type": "code",
      "metadata": {
        "colab": {
          "base_uri": "https://localhost:8080/"
        },
        "id": "S2MIqGGVsBtu",
        "outputId": "b6ca6a95-126d-4fee-9db3-3feceb193f9e"
      },
      "source": [
        "capas = 10\n",
        "perceptrones = 5\n",
        "rate = 0.003\n",
        "iteraciones = 100000\n",
        "\n",
        "MLP = MLPClassifier(activation='relu',\n",
        "                    hidden_layer_sizes = (capas, perceptrones),\n",
        "                    learning_rate_init = rate,\n",
        "                    max_iter = 100000)\n",
        "\n",
        "baseDatos = pd.read_csv(fileTraining)\n",
        "X = baseDatos.loc[:, baseDatos.columns != 'Y']\n",
        "Y = baseDatos.Y\n",
        "MLP.fit(X,Y)"
      ],
      "execution_count": 148,
      "outputs": [
        {
          "output_type": "execute_result",
          "data": {
            "text/plain": [
              "MLPClassifier(activation='relu', alpha=0.0001, batch_size='auto', beta_1=0.9,\n",
              "              beta_2=0.999, early_stopping=False, epsilon=1e-08,\n",
              "              hidden_layer_sizes=(10, 5), learning_rate='constant',\n",
              "              learning_rate_init=0.003, max_fun=15000, max_iter=100000,\n",
              "              momentum=0.9, n_iter_no_change=10, nesterovs_momentum=True,\n",
              "              power_t=0.5, random_state=None, shuffle=True, solver='adam',\n",
              "              tol=0.0001, validation_fraction=0.1, verbose=False,\n",
              "              warm_start=False)"
            ]
          },
          "metadata": {},
          "execution_count": 148
        }
      ]
    },
    {
      "cell_type": "markdown",
      "metadata": {
        "id": "sxmHj4zhrPqo"
      },
      "source": [
        "**4. CALCULAMOS LAS PRECISIONES DEL ENTRENAMIENTO Y PRUEBAS**"
      ]
    },
    {
      "cell_type": "code",
      "metadata": {
        "colab": {
          "base_uri": "https://localhost:8080/",
          "height": 421
        },
        "id": "5uf4d8CBKutv",
        "outputId": "8e3cf29f-3e59-48a0-9a02-a8511c9668ed"
      },
      "source": [
        "f = open ('PerceptronMulticapa.txt','w')\n",
        "f.write('ALUMNO: Octavio Bedregal Flores\\n')\n",
        "f.write('CANTIDAD DE ELEMENTOS ENTRENAMIENTO:'+str(nTraining)+'\\n')\n",
        "f.write('CANTIDAD DE ELEMENTOS TEST:'+str(nTest)+'\\n')\n",
        "f.write('NRO. CARACTERISTICAS: 2\\n')\n",
        "f.write('NRO. CLASES: 2\\n')\n",
        "f.write('PARAMETROS UTILIZADOS: 5\\n')\n",
        "f.write('CANTIDAD DE CAPAS OCULTAS: '+str(capas)+'\\n')\n",
        "predicciones_train = MLP.predict(X)\n",
        "accuracy_train = accuracy_score(predicciones_train, Y)\n",
        "f.write('TASA CLASIFICACIÓN ENTRENAMIENTO: '+str(round(accuracy_train*100,2))+'%\\n')\n",
        "\n",
        "sumAcuracyTest = 0\n",
        "accuracys = [];\n",
        "\n",
        "col1 =[]\n",
        "col2 =[]\n",
        "\n",
        "for i in range(1,(n+1)):\n",
        "  fileTest = 'data/'+nameDB+'-'+str(n)+'-fold/'+nameDB+'-'+str(n)+'-'+str(i)+'tst.csv'\n",
        "  baseDatosTest = pd.read_csv(fileTest)\n",
        "  X_test = baseDatosTest.loc[:, baseDatos.columns != 'Y']\n",
        "  Y_test = baseDatosTest.Y\n",
        "  predicciones_test = MLP.predict(X_test)\n",
        "  accuracy_test = accuracy_score(predicciones_test, Y_test)\n",
        "  sumAcuracyTest += accuracy_test\n",
        "  accuracys.append(accuracy_test)\n",
        "  col1.append(str(i-1))\n",
        "  col2.append(str(round(accuracy_test*100,2))+'%')\n",
        "  f.write('FOLD '+str(i-1)+', TASA CLASIFICACIÓN PRUEBA: '+str(round(accuracy_test*100,2))+'%\\n')\n",
        "\n",
        "media = sumAcuracyTest/n\n",
        "sum1 = 0\n",
        "for a in accuracys:\n",
        "  sum1 += (a - media)**2\n",
        "\n",
        "desvEstandar = math.sqrt((1/(n-1))*(sum1))\n",
        "\n",
        "col1.append('MEDIA')\n",
        "col1.append('DESVIACIÓN ESTANDAR')\n",
        "col2.append(str(round(media*100,2))+'%')\n",
        "col2.append(str(desvEstandar))\n",
        "\n",
        "f.write('MEDIA: '+str(round(media*100,2))+'%\\n')\n",
        "f.write('DESVIACIÓN ESTANDAR: '+str(desvEstandar)+'\\n')\n",
        "f.close() \n",
        "\n",
        "df = pd.DataFrame(list(zip(col1, col2)),\n",
        "               columns =['FOLD', 'VALOR'])\n",
        "df\n"
      ],
      "execution_count": 149,
      "outputs": [
        {
          "output_type": "execute_result",
          "data": {
            "text/html": [
              "<div>\n",
              "<style scoped>\n",
              "    .dataframe tbody tr th:only-of-type {\n",
              "        vertical-align: middle;\n",
              "    }\n",
              "\n",
              "    .dataframe tbody tr th {\n",
              "        vertical-align: top;\n",
              "    }\n",
              "\n",
              "    .dataframe thead th {\n",
              "        text-align: right;\n",
              "    }\n",
              "</style>\n",
              "<table border=\"1\" class=\"dataframe\">\n",
              "  <thead>\n",
              "    <tr style=\"text-align: right;\">\n",
              "      <th></th>\n",
              "      <th>FOLD</th>\n",
              "      <th>VALOR</th>\n",
              "    </tr>\n",
              "  </thead>\n",
              "  <tbody>\n",
              "    <tr>\n",
              "      <th>0</th>\n",
              "      <td>0</td>\n",
              "      <td>89.73%</td>\n",
              "    </tr>\n",
              "    <tr>\n",
              "      <th>1</th>\n",
              "      <td>1</td>\n",
              "      <td>90.11%</td>\n",
              "    </tr>\n",
              "    <tr>\n",
              "      <th>2</th>\n",
              "      <td>2</td>\n",
              "      <td>89.35%</td>\n",
              "    </tr>\n",
              "    <tr>\n",
              "      <th>3</th>\n",
              "      <td>3</td>\n",
              "      <td>89.35%</td>\n",
              "    </tr>\n",
              "    <tr>\n",
              "      <th>4</th>\n",
              "      <td>4</td>\n",
              "      <td>91.63%</td>\n",
              "    </tr>\n",
              "    <tr>\n",
              "      <th>5</th>\n",
              "      <td>5</td>\n",
              "      <td>89.73%</td>\n",
              "    </tr>\n",
              "    <tr>\n",
              "      <th>6</th>\n",
              "      <td>6</td>\n",
              "      <td>90.3%</td>\n",
              "    </tr>\n",
              "    <tr>\n",
              "      <th>7</th>\n",
              "      <td>7</td>\n",
              "      <td>90.68%</td>\n",
              "    </tr>\n",
              "    <tr>\n",
              "      <th>8</th>\n",
              "      <td>8</td>\n",
              "      <td>92.78%</td>\n",
              "    </tr>\n",
              "    <tr>\n",
              "      <th>9</th>\n",
              "      <td>9</td>\n",
              "      <td>92.02%</td>\n",
              "    </tr>\n",
              "    <tr>\n",
              "      <th>10</th>\n",
              "      <td>MEDIA</td>\n",
              "      <td>90.57%</td>\n",
              "    </tr>\n",
              "    <tr>\n",
              "      <th>11</th>\n",
              "      <td>DESVIACIÓN ESTANDAR</td>\n",
              "      <td>0.011896273794937712</td>\n",
              "    </tr>\n",
              "  </tbody>\n",
              "</table>\n",
              "</div>"
            ],
            "text/plain": [
              "                   FOLD                 VALOR\n",
              "0                     0                89.73%\n",
              "1                     1                90.11%\n",
              "2                     2                89.35%\n",
              "3                     3                89.35%\n",
              "4                     4                91.63%\n",
              "5                     5                89.73%\n",
              "6                     6                 90.3%\n",
              "7                     7                90.68%\n",
              "8                     8                92.78%\n",
              "9                     9                92.02%\n",
              "10                MEDIA                90.57%\n",
              "11  DESVIACIÓN ESTANDAR  0.011896273794937712"
            ]
          },
          "metadata": {},
          "execution_count": 149
        }
      ]
    }
  ]
}